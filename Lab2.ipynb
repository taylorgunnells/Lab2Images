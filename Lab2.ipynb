Ten Usability Heuristics

Developed by Jakob Nielsen

For our lab, we will be evaluating the ten heuristics using the following webpage:
https://www.zillow.com
Visibility of system status

The system should always keep users informed about what is going on, through appropriate feedback within reasonable time.
insert a screen shot from the website (image)
Write 50 - 200 words in how the website either adheres or does not adhere to ten heuristics.
Match between system and the real world

The system should speak the users' language, with words, phrases and concepts familiar to the user, rather than system-oriented terms. Follow real-world conventions, making information appear in a natural and logical order.
insert a screen shot from the website (image)
Write 50 - 200 words in how the website either adheres or does not adhere to ten heuristics.
User control and freedom

Users often choose system functions by mistake and will need a clearly marked "emergency exit" to leave the unwanted state without having to go through an extended dialogue. Support undo and redo.
insert a screen shot from the website (image)
Write 50 - 200 words in how the website either adheres or does not adhere to ten heuristics.
Consistency and standards

Users should not have to wonder whether different words, situations, or actions mean the same thing. Follow platform conventions.
insert a screen shot from the website (image)
Write 50 - 200 words in how the website either adheres or does not adhere to ten heuristics.
Error prevention

Even better than good error messages is a careful design which prevents a problem from occurring in the first place. Either eliminate error-prone conditions or check for them and present users with a confirmation option before they commit to the action.
insert a screen shot from the website (image)
Write 50 - 200 words in how the website either adheres or does not adhere to ten heuristics.
Recognition rather than recall

Error messages should be expressed in plain language (no codes), precisely indicate the problem, and constructively suggest a solution.
insert a screen shot from the website (image)
In this instance, the user entered an address that is unfamiliar to the website, and/or does not exist at all. The message has a yellow hue and a symbol that helps the user recognize that there is an error in the entry they made. This website clearly and effectively shows the mistake the user made and requests that the user double check their address. The user should then see that there is a mistake and take the necessary steps to correct the error.
Flexibility and efficiency of use

Accelerators -- unseen by the novice user -- may often speed up the interaction for the expert user such that the system can cater to both inexperienced and experienced users. Allow users to tailor frequent actions.
insert a screen shot from the website (image)
This website, to my knowledge, does not include any accelerators to speed up the interaction for more expert users. This website is used mostly for searching for houses, apartments, and towns to live in. This site is similar to other shopping websites in that the user can save their favorite places to refer back to and compare with other places, but different key strokes like used in programs like Adobe Illustrator, do not work with this website.
Aesthetic and minimalist design

Dialogues should not contain information which is irrelevant or rarely needed. Every extra unit of information in a dialogue competes with the relevant units of information and diminishes their relative visibility.
insert a screen shot from the website (image)
This image is just one of the many examples of aesthetic and minimalist design used within this website. This image shows three options for a user to click on based on what their needs are. These options show a small image and a sentence explaining what the user would like to accomplish. The designs are aesthetically pleasing and use the same color palette on each icon to create unity between the options.
Help users recognize, diagnose, and recover from errors

Error messages should be expressed in plain language (no codes), precisely indicate the problem, and constructively suggest a solution.
In this instance, the user entered an address that is unfamiliar to the website, and/or does not exist at all. The message has a yellow hue and a symbol that helps the user recognize that there is an error in the entry they made. This website clearly and effectively shows the mistake the user made and requests that the user double check their address. The user should then see that there is a mistake and take the necessary steps to correct the error.
Double-click (or enter) to edit
Help and documentation

Even though it is better if the system can be used without documentation, it may be necessary to provide help and documentation. Any such information should be easy to search, focused on the user's task, list concrete steps to be carried out, and not be too large.
![Help and Documentation Image]
This website does help users recognize, diagnose, and recover from errors. It provides a Help tab at the top of the screen, which users select to understand the way the website system works. They can choose from many options based on what they are shopping for, who is shopping, and assistance on what technology the user is depending on to complete their task.
